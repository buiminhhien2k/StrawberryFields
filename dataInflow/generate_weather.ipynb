{
 "nbformat": 4,
 "nbformat_minor": 2,
 "metadata": {
  "language_info": {
   "name": "python",
   "codemirror_mode": {
    "name": "ipython",
    "version": 3
   },
   "version": "3.7.4-final"
  },
  "orig_nbformat": 2,
  "file_extension": ".py",
  "mimetype": "text/x-python",
  "name": "python",
  "npconvert_exporter": "python",
  "pygments_lexer": "ipython3",
  "version": 3,
  "kernelspec": {
   "name": "python37464bitbasecondaa1c3086466574cd48df981435f925a65",
   "display_name": "Python 3.7.4 64-bit ('base': conda)"
  }
 },
 "cells": [
  {
   "cell_type": "code",
   "execution_count": 25,
   "metadata": {},
   "outputs": [
    {
     "output_type": "execute_result",
     "data": {
      "text/plain": "[(9, '2020-04-10', '2020-04-10 10:00:00', -3.29, 0.09, -0.74, 0),\n (10, '2020-04-10', '2020-04-11 10:00:00', -4.58, 0.76, -0.16, 0),\n (11, '2020-04-10', '2020-04-12 10:00:00', -2.9, 1.56, 1.45, 2.71),\n (12, '2020-04-10', '2020-04-13 10:00:00', -3.06, -0.3, -0.56, 0),\n (13, '2020-04-10', '2020-04-14 10:00:00', -3.72, -0.44, -1.32, 0),\n (14, '2020-04-10', '2020-04-15 10:00:00', -3.69, 1.88, 1.47, 0),\n (15, '2020-04-10', '2020-04-16 10:00:00', -2.33, 4.8, 4.02, 0),\n (16, '2020-04-10', '2020-04-17 10:00:00', -0.23, 4.82, 3.76, 0)]"
     },
     "metadata": {},
     "execution_count": 25
    }
   ],
   "source": [
    "import datetime as dt\n",
    "import json as js\n",
    "import urllib.request\n",
    "\n",
    "url='https://api.openweathermap.org/data/2.5/onecall?lat=64.286670&lon=27.622125&units=metric&appid=e25afeccd6e22a2e996bed2809e43452'\n",
    "\n",
    "\n",
    "resp=urllib.request.urlopen(url)\n",
    "jsfile_Tornio=js.load(resp)\n",
    "\n",
    "def unix_to_UTC_time(time_survey):\n",
    "    return dt.datetime.utcfromtimestamp(time_survey).strftime('%Y-%m-%d %H:%M:%S')\n",
    "\n",
    "date_weather_info=[]\n",
    "for each_day in jsfile_Tornio['daily']:\n",
    "    date_predicted=unix_to_UTC_time(each_day['dt'])\n",
    "    temp_max=each_day['temp']['max']\n",
    "    temp_min=each_day['temp']['min']\n",
    "    temp_avg=each_day['temp']['day']\n",
    "    rain_info=each_day.get('rain',0) # if it was no rain on the surveyed day, then return value 0\n",
    "\n",
    "    date_weather_info.append({\n",
    "        'date_predicted':date_predicted,\n",
    "        'temp_max':temp_max,\n",
    "        'temp_min':temp_min,\n",
    "        'temp_avg':temp_avg,\n",
    "        'rain_info (mm)': rain_info\n",
    "    })\n",
    "\n",
    "data_weather=[]\n",
    "k=9\n",
    "today=dt.datetime.now().strftime('%Y-%m-%d')\n",
    "for i in date_weather_info:\n",
    "    data_tuple=(k,today,i['date_predicted'],i['temp_min'],i['temp_max'],i['temp_avg'],i['rain_info (mm)'])\n",
    "    data_weather.append(data_tuple)\n",
    "    k+=1\n",
    "data_weather"
   ]
  },
  {
   "cell_type": "code",
   "execution_count": 26,
   "metadata": {},
   "outputs": [],
   "source": [
    "import sqlite3 as sql\n",
    "Wea_pred=sql.connect('WeatherDataTest.db')\n",
    "try:   \n",
    "    Wea_pred.execute('''\n",
    "    CREATE TABLE \"WeatherPrediction\" (\n",
    "        \"prediction_id\"\tINTEGER NOT NULL PRIMARY KEY AUTOINCREMENT UNIQUE,\n",
    "        \"predictionDate\"\tDATE NOT NULL,\n",
    "        \"date\"\tDATE NOT NULL,\n",
    "        \"minTemp\"\tINTEGER NOT NULL DEFAULT 0,\n",
    "        \"maxTemp\"\tINTEGER NOT NULL DEFAULT 0,\n",
    "        \"avgTemp\"\tINTEGER NOT NULL DEFAULT 0,\n",
    "        \"rain\"\tINTEGER NOT NULL DEFAULT 0\n",
    "    );\n",
    "    ''')\n",
    "except:\n",
    "    pass\n",
    "    \n",
    "try:\n",
    "    Wea_pred.executemany('''insert into WeatherPrediction (prediction_id, predictionDate, date, minTemp, maxTemp, avgTemp, rain)        values (?,?, ?, ?, ?, ?, ?)''',data_weather)\n",
    "except:\n",
    "    pass\n",
    "Wea_pred.commit()\n",
    "Wea_pred.close()"
   ]
  },
  {
   "cell_type": "code",
   "execution_count": 27,
   "metadata": {},
   "outputs": [],
   "source": [
    "%%capture\n",
    "%load_ext sql\n",
    "%sql sqlite:///WeatherDataTest.db"
   ]
  },
  {
   "cell_type": "code",
   "execution_count": 28,
   "metadata": {},
   "outputs": [
    {
     "output_type": "stream",
     "name": "stdout",
     "text": "* sqlite:///WeatherDataTest.db\nDone.\n"
    },
    {
     "output_type": "execute_result",
     "data": {
      "text/plain": "[(1, '2020-04-09', '2020-04-09 10:00:00', -4.05, 2.62, 2.62, 0),\n (2, '2020-04-09', '2020-04-10 10:00:00', -5.62, -0.78, -2.32, 0),\n (3, '2020-04-09', '2020-04-11 10:00:00', -4.41, 0.64, -0.43, 0),\n (4, '2020-04-09', '2020-04-12 10:00:00', -4.06, 0.29, -0.98, 0),\n (5, '2020-04-09', '2020-04-13 10:00:00', -4.73, -0.92, -0.92, 0),\n (6, '2020-04-09', '2020-04-14 10:00:00', -7.14, -1.27, -3.53, 0),\n (7, '2020-04-09', '2020-04-15 10:00:00', -1.86, 2.73, 2.21, 0.92),\n (8, '2020-04-09', '2020-04-16 10:00:00', -3.35, 4.45, 2.73, 0.3),\n (9, '2020-04-10', '2020-04-10 10:00:00', -3.29, 0.09, -0.74, 0),\n (10, '2020-04-10', '2020-04-11 10:00:00', -4.58, 0.76, -0.16, 0),\n (11, '2020-04-10', '2020-04-12 10:00:00', -2.9, 1.56, 1.45, 2.71),\n (12, '2020-04-10', '2020-04-13 10:00:00', -3.06, -0.3, -0.56, 0),\n (13, '2020-04-10', '2020-04-14 10:00:00', -3.72, -0.44, -1.32, 0),\n (14, '2020-04-10', '2020-04-15 10:00:00', -3.69, 1.88, 1.47, 0),\n (15, '2020-04-10', '2020-04-16 10:00:00', -2.33, 4.8, 4.02, 0),\n (16, '2020-04-10', '2020-04-17 10:00:00', -0.23, 4.82, 3.76, 0)]",
      "text/html": "<table>\n    <tr>\n        <th>prediction_id</th>\n        <th>predictionDate</th>\n        <th>date</th>\n        <th>minTemp</th>\n        <th>maxTemp</th>\n        <th>avgTemp</th>\n        <th>rain</th>\n    </tr>\n    <tr>\n        <td>1</td>\n        <td>2020-04-09</td>\n        <td>2020-04-09 10:00:00</td>\n        <td>-4.05</td>\n        <td>2.62</td>\n        <td>2.62</td>\n        <td>0</td>\n    </tr>\n    <tr>\n        <td>2</td>\n        <td>2020-04-09</td>\n        <td>2020-04-10 10:00:00</td>\n        <td>-5.62</td>\n        <td>-0.78</td>\n        <td>-2.32</td>\n        <td>0</td>\n    </tr>\n    <tr>\n        <td>3</td>\n        <td>2020-04-09</td>\n        <td>2020-04-11 10:00:00</td>\n        <td>-4.41</td>\n        <td>0.64</td>\n        <td>-0.43</td>\n        <td>0</td>\n    </tr>\n    <tr>\n        <td>4</td>\n        <td>2020-04-09</td>\n        <td>2020-04-12 10:00:00</td>\n        <td>-4.06</td>\n        <td>0.29</td>\n        <td>-0.98</td>\n        <td>0</td>\n    </tr>\n    <tr>\n        <td>5</td>\n        <td>2020-04-09</td>\n        <td>2020-04-13 10:00:00</td>\n        <td>-4.73</td>\n        <td>-0.92</td>\n        <td>-0.92</td>\n        <td>0</td>\n    </tr>\n    <tr>\n        <td>6</td>\n        <td>2020-04-09</td>\n        <td>2020-04-14 10:00:00</td>\n        <td>-7.14</td>\n        <td>-1.27</td>\n        <td>-3.53</td>\n        <td>0</td>\n    </tr>\n    <tr>\n        <td>7</td>\n        <td>2020-04-09</td>\n        <td>2020-04-15 10:00:00</td>\n        <td>-1.86</td>\n        <td>2.73</td>\n        <td>2.21</td>\n        <td>0.92</td>\n    </tr>\n    <tr>\n        <td>8</td>\n        <td>2020-04-09</td>\n        <td>2020-04-16 10:00:00</td>\n        <td>-3.35</td>\n        <td>4.45</td>\n        <td>2.73</td>\n        <td>0.3</td>\n    </tr>\n    <tr>\n        <td>9</td>\n        <td>2020-04-10</td>\n        <td>2020-04-10 10:00:00</td>\n        <td>-3.29</td>\n        <td>0.09</td>\n        <td>-0.74</td>\n        <td>0</td>\n    </tr>\n    <tr>\n        <td>10</td>\n        <td>2020-04-10</td>\n        <td>2020-04-11 10:00:00</td>\n        <td>-4.58</td>\n        <td>0.76</td>\n        <td>-0.16</td>\n        <td>0</td>\n    </tr>\n    <tr>\n        <td>11</td>\n        <td>2020-04-10</td>\n        <td>2020-04-12 10:00:00</td>\n        <td>-2.9</td>\n        <td>1.56</td>\n        <td>1.45</td>\n        <td>2.71</td>\n    </tr>\n    <tr>\n        <td>12</td>\n        <td>2020-04-10</td>\n        <td>2020-04-13 10:00:00</td>\n        <td>-3.06</td>\n        <td>-0.3</td>\n        <td>-0.56</td>\n        <td>0</td>\n    </tr>\n    <tr>\n        <td>13</td>\n        <td>2020-04-10</td>\n        <td>2020-04-14 10:00:00</td>\n        <td>-3.72</td>\n        <td>-0.44</td>\n        <td>-1.32</td>\n        <td>0</td>\n    </tr>\n    <tr>\n        <td>14</td>\n        <td>2020-04-10</td>\n        <td>2020-04-15 10:00:00</td>\n        <td>-3.69</td>\n        <td>1.88</td>\n        <td>1.47</td>\n        <td>0</td>\n    </tr>\n    <tr>\n        <td>15</td>\n        <td>2020-04-10</td>\n        <td>2020-04-16 10:00:00</td>\n        <td>-2.33</td>\n        <td>4.8</td>\n        <td>4.02</td>\n        <td>0</td>\n    </tr>\n    <tr>\n        <td>16</td>\n        <td>2020-04-10</td>\n        <td>2020-04-17 10:00:00</td>\n        <td>-0.23</td>\n        <td>4.82</td>\n        <td>3.76</td>\n        <td>0</td>\n    </tr>\n</table>"
     },
     "metadata": {},
     "execution_count": 28
    }
   ],
   "source": [
    "%%sql\n",
    "select * from WeatherPrediction\n",
    ""
   ]
  },
  {
   "cell_type": "code",
   "execution_count": null,
   "metadata": {},
   "outputs": [],
   "source": []
  },
  {
   "cell_type": "code",
   "execution_count": null,
   "metadata": {},
   "outputs": [],
   "source": []
  }
 ]
}