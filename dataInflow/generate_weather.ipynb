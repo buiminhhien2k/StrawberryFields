{
 "nbformat": 4,
 "nbformat_minor": 2,
 "metadata": {
  "language_info": {
   "name": "python",
   "codemirror_mode": {
    "name": "ipython",
    "version": 3
   },
   "version": "3.7.4-final"
  },
  "orig_nbformat": 2,
  "file_extension": ".py",
  "mimetype": "text/x-python",
  "name": "python",
  "npconvert_exporter": "python",
  "pygments_lexer": "ipython3",
  "version": 3,
  "kernelspec": {
   "name": "python37464bitbasecondaa1c3086466574cd48df981435f925a65",
   "display_name": "Python 3.7.4 64-bit ('base': conda)"
  }
 },
 "cells": [
  {
   "cell_type": "code",
   "execution_count": 5,
   "metadata": {},
   "outputs": [],
   "source": [
    "import datetime as dt\n",
    "import json as js\n",
    "import urllib.request\n",
    "\n",
    "url='http://api.openweathermap.org/data/2.5/forecast?lat=64.286670&lon=27.622125&appid=e25afeccd6e22a2e996bed2809e43452'\n",
    "\n",
    "resp=urllib.request.urlopen(url)\n",
    "jsfile_Tornio=js.load(resp)\n",
    "\n",
    "def date_predict(time_survey):\n",
    "    time_survey=dt.datetime.strptime(time_survey,'%Y-%m-%d %H:%M:%S')\n",
    "    return '{}-{:0>2d}-{:0>2d}'.format(time_survey.year,time_survey.month, time_survey.day)\n",
    "\n",
    "date_temp_dictionary={}\n",
    "\n",
    "for each_date in jsfile_Tornio['list']:\n",
    "    datee=date_predict(each_date['dt_txt'])\n",
    "    if datee not in date_temp_dictionary:\n",
    "        date_temp_dictionary[datee]=[]\n",
    "        date_temp_dictionary[datee].append(round(each_date['main']['temp']-273,1))\n",
    "    else:\n",
    "        date_temp_dictionary[datee].append(round(each_date['main']['temp']-273,1))\n",
    "\n",
    "        \n",
    "date_weather_info=[]\n",
    "for i in date_temp_dictionary:\n",
    "    if len(date_temp_dictionary[i])==8:\n",
    "        temp_max=max(date_temp_dictionary[i])\n",
    "        temp_min=min(date_temp_dictionary[i])\n",
    "        temp_avg=sum(date_temp_dictionary[i])/len(date_temp_dictionary[i])\n",
    "        \n",
    "        date_weather_info.append(\n",
    "        {'date':i,\n",
    "        'temp_avg':temp_avg,\n",
    "        'temp_max':temp_max,\n",
    "        'temp_min':temp_min,\n",
    "        'rain(mm)':0})\n",
    "    else:\n",
    "        pass\n",
    "\n",
    "date_list=[i['date'] for i in date_weather_info]\n",
    "for each_date in jsfile_Tornio['list']:\n",
    "    datee=date_predict(each_date['dt_txt'])\n",
    "    if datee in date_list:\n",
    "        ind=date_list.index(datee)\n",
    "        try:\n",
    "            rain_amount=each_date['rain'] \n",
    "            # if there are no rain at the survey time, you can't find the 'rain' key in each_date, \n",
    "            # then the program will jump to the except state.\n",
    "            if rain_amount>date_weather_info[ind]['rain(mm)']:\n",
    "                date_weather_info[ind]['rain(mm)']=rain_amount\n",
    "            else:\n",
    "                pass\n",
    "\n",
    "        except KeyError:\n",
    "            # if there has been rained already on the same day,\n",
    "            # then we do nothing to the rain information in date_weather_info\n",
    "            pass\n",
    "    else:\n",
    "        continue"
   ]
  },
  {
   "cell_type": "code",
   "execution_count": 6,
   "metadata": {},
   "outputs": [
    {
     "output_type": "execute_result",
     "data": {
      "text/plain": "[{'date': '2020-04-09',\n  'temp_avg': 0.6375,\n  'temp_max': 3.4,\n  'temp_min': -4.4,\n  'rain(mm)': 0},\n {'date': '2020-04-10',\n  'temp_avg': -2.6750000000000003,\n  'temp_max': 0.5,\n  'temp_min': -5.7,\n  'rain(mm)': 0},\n {'date': '2020-04-11',\n  'temp_avg': -1.3250000000000002,\n  'temp_max': 1.4,\n  'temp_min': -3.4,\n  'rain(mm)': 0},\n {'date': '2020-04-12',\n  'temp_avg': -1.2249999999999999,\n  'temp_max': 1.5,\n  'temp_min': -3.6,\n  'rain(mm)': 0},\n {'date': '2020-04-13',\n  'temp_avg': -2.2750000000000004,\n  'temp_max': -0.9,\n  'temp_min': -4.6,\n  'rain(mm)': 0}]"
     },
     "metadata": {},
     "execution_count": 6
    }
   ],
   "source": [
    "date_weather_info"
   ]
  }
 ]
}