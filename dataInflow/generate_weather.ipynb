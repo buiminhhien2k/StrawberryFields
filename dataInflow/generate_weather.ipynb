{
 "nbformat": 4,
 "nbformat_minor": 2,
 "metadata": {
  "language_info": {
   "name": "python",
   "codemirror_mode": {
    "name": "ipython",
    "version": 3
   },
   "version": "3.7.4-final"
  },
  "orig_nbformat": 2,
  "file_extension": ".py",
  "mimetype": "text/x-python",
  "name": "python",
  "npconvert_exporter": "python",
  "pygments_lexer": "ipython3",
  "version": 3,
  "kernelspec": {
   "name": "python37464bitbasecondaa1c3086466574cd48df981435f925a65",
   "display_name": "Python 3.7.4 64-bit ('base': conda)"
  }
 },
 "cells": [
  {
   "cell_type": "code",
   "execution_count": 12,
   "metadata": {},
   "outputs": [],
   "source": [
    "import datetime as dt\n",
    "import json as js\n",
    "import urllib.request\n",
    "\n",
    "url='https://api.openweathermap.org/data/2.5/onecall?lat=64.286670&lon=27.622125&units=metric&appid=e25afeccd6e22a2e996bed2809e43452'\n",
    "\n",
    "\n",
    "resp=urllib.request.urlopen(url)\n",
    "jsfile_Tornio=js.load(resp)\n",
    "\n",
    "def unix_to_UTC_time(time_survey):\n",
    "    return dt.datetime.utcfromtimestamp(time_survey).strftime('%Y-%m-%d %H:%M:%S')\n",
    "\n",
    "date_weather_info=[]\n",
    "for each_day in jsfile_Tornio['daily']:\n",
    "    date_predicted=unix_to_UTC_time(each_day['dt'])\n",
    "    temp_max=each_day['temp']['max']\n",
    "    temp_min=each_day['temp']['min']\n",
    "    temp_avg=each_day['temp']['day']\n",
    "    rain_info=each_day.get('rain',0) # if it was no rain on the surveyed day, then return value 0\n",
    "\n",
    "    date_weather_info.append({\n",
    "        'date_predicted':date_predicted,\n",
    "        'temp_max':temp_max,\n",
    "        'temp_min':temp_min,\n",
    "        'temp_avg':temp_avg,\n",
    "        'rain_info (mm)': rain_info\n",
    "    })"
   ]
  },
  {
   "cell_type": "code",
   "execution_count": null,
   "metadata": {},
   "outputs": [],
   "source": []
  }
 ]
}